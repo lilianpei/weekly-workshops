{
 "cells": [
  {
   "cell_type": "code",
   "execution_count": 7,
   "id": "b60e897b",
   "metadata": {},
   "outputs": [],
   "source": [
    "title = 'Jabberwocky'\n",
    "author = \"Lewis Carrol\"\n",
    "text = \"\"\"'Twas brillig, and the slithy toves\n",
    "      Did gyre and gimble in the wabe:\n",
    "All mimsy were the borogoves,\n",
    "      And the mome raths outgrabe.\n",
    "\n",
    "\"Beware the Jabberwock, my son!\n",
    "      The jaws that bite, the claws that catch!\n",
    "Beware the Jubjub bird, and shun\n",
    "      The frumious Bandersnatch!\"\n",
    "\n",
    "He took his vorpal sword in hand;\n",
    "      Long time the manxome foe he sought—\n",
    "So rested he by the Tumtum tree\n",
    "      And stood awhile in thought.\"\"\"\n",
    "\n",
    "# text from https://www.poetryfoundation.org/poems/42916/jabberwocky"
   ]
  },
  {
   "cell_type": "code",
   "execution_count": 34,
   "id": "c89c7cbc",
   "metadata": {},
   "outputs": [
    {
     "name": "stdout",
     "output_type": "stream",
     "text": [
      "Print the length of title :  11\n",
      "Print the length of author :  12\n",
      "Print the length of text :  432\n"
     ]
    }
   ],
   "source": [
    "# Print the length of title\n",
    "print(\"Print the length of title : \", len(title))\n",
    "# Print the length of author\n",
    "print(\"Print the length of author : \", len(author))\n",
    "# Print the length of text\n",
    "print(\"Print the length of text : \", len(text))"
   ]
  },
  {
   "cell_type": "code",
   "execution_count": 18,
   "id": "d5d11704",
   "metadata": {},
   "outputs": [
    {
     "name": "stdout",
     "output_type": "stream",
     "text": [
      "Jabberwocky : Lewis Carrol : 'Twas brillig, and t\n"
     ]
    }
   ],
   "source": [
    "# Print the title, the author and the first 20 characters of the description\n",
    "print((title),':', (author),':',(text)[0:20])"
   ]
  },
  {
   "cell_type": "code",
   "execution_count": 24,
   "id": "3c944b7e",
   "metadata": {},
   "outputs": [
    {
     "name": "stdout",
     "output_type": "stream",
     "text": [
      "The number of words in text are : 71\n"
     ]
    }
   ],
   "source": [
    "# using split()\n",
    "# to count words in string\n",
    "res = len(text.split())\n",
    "\n",
    "# no of words\n",
    "print (\"The number of words in text are : \" + str(res))"
   ]
  },
  {
   "cell_type": "code",
   "execution_count": 27,
   "id": "1567a700",
   "metadata": {},
   "outputs": [
    {
     "name": "stdout",
     "output_type": "stream",
     "text": [
      "The number of lines in the poem are : 14\n"
     ]
    }
   ],
   "source": [
    "# using split()\n",
    "# to the \\n character in string\n",
    "res = len(text.split('\\n'))\n",
    "\n",
    "# no of lines\n",
    "print (\"The number of lines in the poem are : \" + str(res))"
   ]
  },
  {
   "cell_type": "code",
   "execution_count": 36,
   "id": "89892c49",
   "metadata": {},
   "outputs": [],
   "source": [
    "nums = list(range(20))"
   ]
  },
  {
   "cell_type": "code",
   "execution_count": 37,
   "id": "f33dacbf",
   "metadata": {},
   "outputs": [
    {
     "name": "stdout",
     "output_type": "stream",
     "text": [
      "Print out the largest numbers :  19\n",
      "Print out the smallest numbers :  0\n",
      "Print out the sum of all the numbers :  190\n"
     ]
    }
   ],
   "source": [
    "# Print out the largest numbers\n",
    "print(\"Print out the largest numbers : \", max(nums))\n",
    "# Print out the smallest numbers\n",
    "print(\"Print out the smallest numbers : \", min(nums))\n",
    "# Print out the sum of all the numbers\n",
    "print(\"Print out the sum of all the numbers : \", sum(nums))"
   ]
  },
  {
   "cell_type": "code",
   "execution_count": 39,
   "id": "49cc20fa",
   "metadata": {},
   "outputs": [
    {
     "name": "stdout",
     "output_type": "stream",
     "text": [
      "Print the fifth element of the list: 4\n",
      "Print all of the elements from the third to the ninth element: [2, 3, 4, 5, 6, 7]\n",
      "Print every element after the twelfth element: [11, 12, 13, 14, 15, 16, 17, 18, 19]\n"
     ]
    }
   ],
   "source": [
    "# Print the fifth element of the list\n",
    "print(\"Print the fifth element of the list:\", nums[4])\n",
    "# Print all of the elements from the third to the ninth element\n",
    "print(\"Print all of the elements from the third to the ninth element:\", nums[2:8])\n",
    "# Print every element after the twelfth element\n",
    "print(\"Print every element after the twelfth element:\", nums[11:])"
   ]
  },
  {
   "cell_type": "code",
   "execution_count": 41,
   "id": "7cb3f8ca",
   "metadata": {},
   "outputs": [
    {
     "name": "stdout",
     "output_type": "stream",
     "text": [
      "2 3 4 5 6 7 8 9 10 11 12 13 14 15 16 17 18 19 20 21 22 23 24 25 26 27 28 29 30 31 32 33 34 35 36 37 38 39 40 41 42 43 44 45 46 47 48 49 50 51 52 53 54 55 56 57 58 59 60 61 62 63 64 65 66 67 68 69 70 71 72 73 74 75 76 77 78 79 80 81 82 83 84 85 86 87 88 89 90 91 92 93 94 95 96 97 98 99 "
     ]
    }
   ],
   "source": [
    "# set the third element in the list to 99\n",
    "for i in range(2, 100):\n",
    "    print(i, end=' ')"
   ]
  },
  {
   "cell_type": "code",
   "execution_count": 42,
   "id": "e2157d3b",
   "metadata": {},
   "outputs": [
    {
     "name": "stdout",
     "output_type": "stream",
     "text": [
      "5.5\n"
     ]
    }
   ],
   "source": [
    "# create a list of numbers\n",
    "# returns the average value of the numbers in the list using the sum and len functions\n",
    "nums = [1, 2, 3, 4, 5, 6, 7, 8, 9, 10]\n",
    "avg = sum(nums) / len(nums)\n",
    "\n",
    "print(avg)"
   ]
  },
  {
   "cell_type": "code",
   "execution_count": 43,
   "id": "7700d571",
   "metadata": {},
   "outputs": [
    {
     "name": "stdout",
     "output_type": "stream",
     "text": [
      "I wrote a function to show this message!\n",
      "I learned how to write Python!\n"
     ]
    }
   ],
   "source": [
    "# Call a function in the next cell\n",
    "def text1():\n",
    "    print(\"I learned how to write Python!\")\n",
    "\n",
    "def text2():\n",
    "    print(\"I wrote a function to show this message!\")\n",
    "    text1()\n",
    "\n",
    "# text2 \n",
    "text2()"
   ]
  },
  {
   "cell_type": "code",
   "execution_count": null,
   "id": "7922f5f8",
   "metadata": {},
   "outputs": [],
   "source": []
  }
 ],
 "metadata": {
  "kernelspec": {
   "display_name": "Python 3 (ipykernel)",
   "language": "python",
   "name": "python3"
  },
  "language_info": {
   "codemirror_mode": {
    "name": "ipython",
    "version": 3
   },
   "file_extension": ".py",
   "mimetype": "text/x-python",
   "name": "python",
   "nbconvert_exporter": "python",
   "pygments_lexer": "ipython3",
   "version": "3.9.1"
  }
 },
 "nbformat": 4,
 "nbformat_minor": 5
}
